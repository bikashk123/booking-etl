{
 "cells": [
  {
   "cell_type": "code",
   "execution_count": 1,
   "id": "05f91180",
   "metadata": {},
   "outputs": [],
   "source": [
    "import findspark\n",
    "findspark.init()"
   ]
  },
  {
   "cell_type": "code",
   "execution_count": 2,
   "id": "ceb7cac5",
   "metadata": {},
   "outputs": [],
   "source": [
    "# Initialize spark sesssion\n",
    "import pyspark\n",
    "from pyspark.sql import SparkSession\n",
    "spark = SparkSession.builder.appName(\"bookings-etl\").getOrCreate()"
   ]
  },
  {
   "cell_type": "code",
   "execution_count": 3,
   "id": "34637413",
   "metadata": {},
   "outputs": [],
   "source": [
    "# Import Library\n",
    "from pyspark.sql.functions import concat, col, lit, to_date, date_add, expr, udf, when\n",
    "from pyspark.sql.types import StringType, IntegerType"
   ]
  },
  {
   "cell_type": "code",
   "execution_count": 4,
   "id": "2a112cce",
   "metadata": {},
   "outputs": [],
   "source": [
    "# Reading the file\n",
    "data = spark.read.option('header','True').csv(\"hostel.csv\",inferSchema=True)"
   ]
  },
  {
   "cell_type": "code",
   "execution_count": 5,
   "id": "54b5dbaf",
   "metadata": {},
   "outputs": [
    {
     "name": "stdout",
     "output_type": "stream",
     "text": [
      "hotel\n",
      "+------------+\n",
      "|       hotel|\n",
      "+------------+\n",
      "|  City Hotel|\n",
      "|Resort Hotel|\n",
      "+------------+\n",
      "\n",
      "******************************************************\n",
      "arrival_date_month\n",
      "+------------------+\n",
      "|arrival_date_month|\n",
      "+------------------+\n",
      "|              July|\n",
      "|          November|\n",
      "|          February|\n",
      "|           January|\n",
      "|             March|\n",
      "|           October|\n",
      "|               May|\n",
      "|            August|\n",
      "|             April|\n",
      "|              June|\n",
      "|          December|\n",
      "|         September|\n",
      "+------------------+\n",
      "\n",
      "******************************************************\n",
      "children\n",
      "+--------+\n",
      "|children|\n",
      "+--------+\n",
      "|       3|\n",
      "|       0|\n",
      "|      NA|\n",
      "|       1|\n",
      "|      10|\n",
      "|       2|\n",
      "+--------+\n",
      "\n",
      "******************************************************\n",
      "meal\n",
      "+---------+\n",
      "|     meal|\n",
      "+---------+\n",
      "|       SC|\n",
      "|       FB|\n",
      "|Undefined|\n",
      "|       BB|\n",
      "|       HB|\n",
      "+---------+\n",
      "\n",
      "******************************************************\n",
      "country\n",
      "+-------+\n",
      "|country|\n",
      "+-------+\n",
      "|    POL|\n",
      "|    LVA|\n",
      "|    BRB|\n",
      "|    ZMB|\n",
      "|    JAM|\n",
      "|    BRA|\n",
      "|    ARM|\n",
      "|    MOZ|\n",
      "|    CUB|\n",
      "|    JOR|\n",
      "|    FRA|\n",
      "|    ABW|\n",
      "|    URY|\n",
      "|    BOL|\n",
      "|    GIB|\n",
      "|    LBY|\n",
      "|    ETH|\n",
      "|     CN|\n",
      "|    ITA|\n",
      "|    UKR|\n",
      "+-------+\n",
      "only showing top 20 rows\n",
      "\n",
      "******************************************************\n",
      "market_segment\n",
      "+--------------+\n",
      "|market_segment|\n",
      "+--------------+\n",
      "| Offline TA/TO|\n",
      "| Complementary|\n",
      "|      Aviation|\n",
      "|        Direct|\n",
      "|     Undefined|\n",
      "|     Corporate|\n",
      "|     Online TA|\n",
      "|        Groups|\n",
      "+--------------+\n",
      "\n",
      "******************************************************\n",
      "distribution_channel\n",
      "+--------------------+\n",
      "|distribution_channel|\n",
      "+--------------------+\n",
      "|               TA/TO|\n",
      "|              Direct|\n",
      "|           Undefined|\n",
      "|                 GDS|\n",
      "|           Corporate|\n",
      "+--------------------+\n",
      "\n",
      "******************************************************\n",
      "reserved_room_type\n",
      "+------------------+\n",
      "|reserved_room_type|\n",
      "+------------------+\n",
      "|                 F|\n",
      "|                 E|\n",
      "|                 B|\n",
      "|                 L|\n",
      "|                 D|\n",
      "|                 C|\n",
      "|                 A|\n",
      "|                 G|\n",
      "|                 P|\n",
      "|                 H|\n",
      "+------------------+\n",
      "\n",
      "******************************************************\n",
      "assigned_room_type\n",
      "+------------------+\n",
      "|assigned_room_type|\n",
      "+------------------+\n",
      "|                 K|\n",
      "|                 F|\n",
      "|                 E|\n",
      "|                 B|\n",
      "|                 L|\n",
      "|                 D|\n",
      "|                 C|\n",
      "|                 A|\n",
      "|                 G|\n",
      "|                 I|\n",
      "|                 P|\n",
      "|                 H|\n",
      "+------------------+\n",
      "\n",
      "******************************************************\n",
      "deposit_type\n",
      "+------------+\n",
      "|deposit_type|\n",
      "+------------+\n",
      "|  Non Refund|\n",
      "|  Refundable|\n",
      "|  No Deposit|\n",
      "+------------+\n",
      "\n",
      "******************************************************\n",
      "agent\n",
      "+-----+\n",
      "|agent|\n",
      "+-----+\n",
      "|  467|\n",
      "|  296|\n",
      "|  451|\n",
      "|    7|\n",
      "|  307|\n",
      "|  475|\n",
      "|  334|\n",
      "|  205|\n",
      "|   15|\n",
      "|  282|\n",
      "|   54|\n",
      "|  234|\n",
      "|  232|\n",
      "|  155|\n",
      "|  483|\n",
      "|  154|\n",
      "|  132|\n",
      "|  495|\n",
      "|  388|\n",
      "|   11|\n",
      "+-----+\n",
      "only showing top 20 rows\n",
      "\n",
      "******************************************************\n",
      "company\n",
      "+-------+\n",
      "|company|\n",
      "+-------+\n",
      "|    451|\n",
      "|     51|\n",
      "|    447|\n",
      "|    307|\n",
      "|    169|\n",
      "|    334|\n",
      "|    272|\n",
      "|    442|\n",
      "|    470|\n",
      "|    383|\n",
      "|    282|\n",
      "|     54|\n",
      "|    232|\n",
      "|    448|\n",
      "|    234|\n",
      "|    483|\n",
      "|    154|\n",
      "|    317|\n",
      "|    132|\n",
      "|    521|\n",
      "+-------+\n",
      "only showing top 20 rows\n",
      "\n",
      "******************************************************\n",
      "customer_type\n",
      "+---------------+\n",
      "|  customer_type|\n",
      "+---------------+\n",
      "|      Transient|\n",
      "|Transient-Party|\n",
      "|          Group|\n",
      "|       Contract|\n",
      "+---------------+\n",
      "\n",
      "******************************************************\n",
      "reservation_status\n",
      "+------------------+\n",
      "|reservation_status|\n",
      "+------------------+\n",
      "|          Canceled|\n",
      "|           No-Show|\n",
      "|         Check-Out|\n",
      "+------------------+\n",
      "\n",
      "******************************************************\n",
      "reservation_status_date\n",
      "+-----------------------+\n",
      "|reservation_status_date|\n",
      "+-----------------------+\n",
      "|             2015-05-01|\n",
      "|             2016-08-17|\n",
      "|             2017-05-14|\n",
      "|             2016-04-22|\n",
      "|             2016-08-08|\n",
      "|             2016-08-20|\n",
      "|             2016-09-11|\n",
      "|             2017-02-24|\n",
      "|             2017-05-11|\n",
      "|             2015-02-09|\n",
      "|             2015-02-27|\n",
      "|             2015-11-20|\n",
      "|             2016-05-21|\n",
      "|             2016-07-06|\n",
      "|             2015-02-26|\n",
      "|             2015-08-15|\n",
      "|             2016-01-16|\n",
      "|             2016-03-17|\n",
      "|             2016-04-15|\n",
      "|             2017-08-18|\n",
      "+-----------------------+\n",
      "only showing top 20 rows\n",
      "\n",
      "******************************************************\n"
     ]
    }
   ],
   "source": [
    "# Find all unique element of column which datatype is of string\n",
    "for col in data.dtypes:\n",
    "    if col[1]=='string':\n",
    "        print(col[0])\n",
    "        data.select(col[0]).distinct().show()\n",
    "        print('******************************************************')"
   ]
  },
  {
   "cell_type": "code",
   "execution_count": 6,
   "id": "08b3f534",
   "metadata": {},
   "outputs": [],
   "source": [
    "# Filter Record based on Tour operator as market_segment designation \n",
    "filter_df=data.filter(data.market_segment == \"Offline TA/TO\")"
   ]
  },
  {
   "cell_type": "code",
   "execution_count": 7,
   "id": "683ac998",
   "metadata": {
    "scrolled": true
   },
   "outputs": [],
   "source": [
    "# Create the arrival_date field by combining the arrival_date_year, arrival_date_month and arrival_date_day_of_month columns using column objects\n",
    "\n",
    "filter_1 = filter_df.withColumn(\"arrival_date\", to_date(concat(filter_df['arrival_date_year'].cast(\"string\"), lit('-'), filter_df['arrival_date_month'], lit('-'), filter_df['arrival_date_day_of_month'].cast(\"string\")),\"yyyy-MMMM-d\"))\n",
    "\n",
    "\n",
    "# Create the departure_date field by adding the stays_in_weekend_nights and stays_in_week_nights columns to the arrival_date field using sql expresion\n",
    " \n",
    "filter_2 = filter_1.withColumn(\"departure_date\",expr(\"date_add(arrival_date,stays_in_weekend_nights+stays_in_week_nights)\"))\n"
   ]
  },
  {
   "cell_type": "code",
   "execution_count": 8,
   "id": "04251b8e",
   "metadata": {},
   "outputs": [],
   "source": [
    "# Create new column \"with_family_breakfast\" as 'yes' if sum of children and babies aregreater then 0 else 'No'\n",
    "filter_3=filter_2.withColumn('with_family_breakfast',when(filter_2.children.cast('int')+filter_2.babies> 0,\"Yes\")\n",
    "                             .otherwise(\"No\"))"
   ]
  },
  {
   "cell_type": "code",
   "execution_count": 9,
   "id": "58a674a3",
   "metadata": {},
   "outputs": [],
   "source": [
    "#Write output in a parquet file format\n",
    "filter_3.write.mode('overwrite').parquet(\"hostel_booking\")"
   ]
  },
  {
   "cell_type": "markdown",
   "id": "e379fa9a",
   "metadata": {},
   "source": [
    "### Validation Cases:"
   ]
  },
  {
   "cell_type": "code",
   "execution_count": 10,
   "id": "1b8dcbfa",
   "metadata": {},
   "outputs": [
    {
     "name": "stdout",
     "output_type": "stream",
     "text": [
      "+--------------+\n",
      "|market_segment|\n",
      "+--------------+\n",
      "| Offline TA/TO|\n",
      "+--------------+\n",
      "\n"
     ]
    }
   ],
   "source": [
    "# Check the unique record in market_segment after applying filter on market_segment\n",
    "filter_3.select('market_segment').distinct().show()"
   ]
  },
  {
   "cell_type": "code",
   "execution_count": 11,
   "id": "e64adc8c",
   "metadata": {},
   "outputs": [
    {
     "name": "stdout",
     "output_type": "stream",
     "text": [
      "+-----------------+------------------+-------------------------+------------+-----------------------+--------------------+--------------+\n",
      "|arrival_date_year|arrival_date_month|arrival_date_day_of_month|arrival_date|stays_in_weekend_nights|stays_in_week_nights|departure_date|\n",
      "+-----------------+------------------+-------------------------+------------+-----------------------+--------------------+--------------+\n",
      "|             2015|              July|                        1|  2015-07-01|                      0|                   3|    2015-07-04|\n",
      "|             2015|              July|                        1|  2015-07-01|                      0|                   4|    2015-07-05|\n",
      "|             2015|              July|                        1|  2015-07-01|                      2|                   5|    2015-07-08|\n",
      "|             2015|              July|                        1|  2015-07-01|                      2|                   5|    2015-07-08|\n",
      "|             2015|              July|                        1|  2015-07-01|                      2|                   5|    2015-07-08|\n",
      "+-----------------+------------------+-------------------------+------------+-----------------------+--------------------+--------------+\n",
      "only showing top 5 rows\n",
      "\n"
     ]
    }
   ],
   "source": [
    "# Review the arrival_date, departure_date column\n",
    "filter_3.select('arrival_date_year','arrival_date_month','arrival_date_day_of_month','arrival_date','stays_in_weekend_nights','stays_in_week_nights','departure_date').show(5)"
   ]
  },
  {
   "cell_type": "code",
   "execution_count": 12,
   "id": "c240594a",
   "metadata": {},
   "outputs": [
    {
     "name": "stdout",
     "output_type": "stream",
     "text": [
      "+---------------------+--------+------+\n",
      "|with_family_breakfast|children|babies|\n",
      "+---------------------+--------+------+\n",
      "|                  Yes|       0|     2|\n",
      "|                  Yes|       1|     0|\n",
      "|                  Yes|       0|     1|\n",
      "|                  Yes|       3|     0|\n",
      "|                   No|       0|     0|\n",
      "|                  Yes|       2|     0|\n",
      "|                  Yes|       2|     1|\n",
      "|                  Yes|       1|     1|\n",
      "|                  Yes|      10|     0|\n",
      "+---------------------+--------+------+\n",
      "\n"
     ]
    }
   ],
   "source": [
    "# Validate the derivation of with_family_breakfast column\n",
    "filter_3.select('with_family_breakfast','children','babies').distinct().show()"
   ]
  },
  {
   "cell_type": "code",
   "execution_count": 13,
   "id": "92f4951e",
   "metadata": {},
   "outputs": [
    {
     "name": "stdout",
     "output_type": "stream",
     "text": [
      "Before data processing: \n",
      "Total row count:119390\n",
      "Total columns: 32\n",
      "**************************************\n",
      "\n",
      "After data processing: \n",
      "Total row count:24219\n",
      "Total columns: 35\n"
     ]
    }
   ],
   "source": [
    "# shape of the data before processing\n",
    "print('Before data processing: ')\n",
    "print(f'Total row count:'+ str(data.count()) +'\\nTotal columns: '+ str(len(data.columns)))\n",
    "\n",
    "print('**************************************')\n",
    "\n",
    "# shape of the data After processing\n",
    "print('\\nAfter data processing: ')\n",
    "print(f'Total row count:'+ str(filter_3.count()) +'\\nTotal columns: '+ str(len(filter_3.columns)))"
   ]
  },
  {
   "cell_type": "code",
   "execution_count": 14,
   "id": "4d0c6aa8",
   "metadata": {},
   "outputs": [
    {
     "name": "stdout",
     "output_type": "stream",
     "text": [
      "is_canceled, lead_time, arrival_date_year, arrival_date_week_number, arrival_date_day_of_month, stays_in_weekend_nights, stays_in_week_nights, adults, babies, is_repeated_guest, previous_cancellations, previous_bookings_not_canceled, booking_changes, days_in_waiting_list, required_car_parking_spaces, total_of_special_requests\n"
     ]
    }
   ],
   "source": [
    "# Filter all column which is of int datatype\n",
    "# numerical features\n",
    "\n",
    "numeric_feature=[i[0] for i in filter_3.dtypes if i[1]=='int']\n",
    "print(', '.join(numeric_feature))"
   ]
  },
  {
   "cell_type": "code",
   "execution_count": 15,
   "id": "6ea32760",
   "metadata": {},
   "outputs": [
    {
     "name": "stdout",
     "output_type": "stream",
     "text": [
      "hotel, arrival_date_month, children, meal, country, market_segment, distribution_channel, reserved_room_type, assigned_room_type, deposit_type, agent, company, customer_type, reservation_status, reservation_status_date, with_family_breakfast\n"
     ]
    }
   ],
   "source": [
    "# Filter all column which is of string datatype\n",
    "# categorical features\n",
    "\n",
    "categorical=[i[0] for i in filter_3.dtypes if i[1]=='string']\n",
    "print(', '.join(categorical))"
   ]
  },
  {
   "cell_type": "code",
   "execution_count": null,
   "id": "670876a6",
   "metadata": {},
   "outputs": [],
   "source": []
  }
 ],
 "metadata": {
  "kernelspec": {
   "display_name": "Python 3",
   "language": "python",
   "name": "python3"
  },
  "language_info": {
   "codemirror_mode": {
    "name": "ipython",
    "version": 3
   },
   "file_extension": ".py",
   "mimetype": "text/x-python",
   "name": "python",
   "nbconvert_exporter": "python",
   "pygments_lexer": "ipython3",
   "version": "3.8.8"
  }
 },
 "nbformat": 4,
 "nbformat_minor": 5
}
